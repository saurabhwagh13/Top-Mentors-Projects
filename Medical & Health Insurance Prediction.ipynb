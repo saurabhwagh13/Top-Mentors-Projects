{
 "cells": [
  {
   "cell_type": "code",
   "execution_count": 1,
   "id": "e7045791",
   "metadata": {},
   "outputs": [],
   "source": [
    "import pandas as pd\n",
    "import numpy as np"
   ]
  },
  {
   "cell_type": "markdown",
   "id": "90980fe2",
   "metadata": {},
   "source": [
    "# Loading Datasets"
   ]
  },
  {
   "cell_type": "code",
   "execution_count": 2,
   "id": "977e157b",
   "metadata": {},
   "outputs": [],
   "source": [
    "train=pd.read_csv('E:train.csv')\n",
    "test=pd.read_csv('E:test.csv')\n",
    "sample=pd.read_csv('E:sample_submission.csv')"
   ]
  },
  {
   "cell_type": "markdown",
   "id": "bb7f0d62",
   "metadata": {},
   "source": [
    "# Checking heads..."
   ]
  },
  {
   "cell_type": "code",
   "execution_count": 3,
   "id": "1a744f13",
   "metadata": {},
   "outputs": [
    {
     "data": {
      "text/html": [
       "<div>\n",
       "<style scoped>\n",
       "    .dataframe tbody tr th:only-of-type {\n",
       "        vertical-align: middle;\n",
       "    }\n",
       "\n",
       "    .dataframe tbody tr th {\n",
       "        vertical-align: top;\n",
       "    }\n",
       "\n",
       "    .dataframe thead th {\n",
       "        text-align: right;\n",
       "    }\n",
       "</style>\n",
       "<table border=\"1\" class=\"dataframe\">\n",
       "  <thead>\n",
       "    <tr style=\"text-align: right;\">\n",
       "      <th></th>\n",
       "      <th>id</th>\n",
       "      <th>Gender</th>\n",
       "      <th>Age</th>\n",
       "      <th>Driving_License</th>\n",
       "      <th>Region_Code</th>\n",
       "      <th>Previously_Insured</th>\n",
       "      <th>Vehicle_Age</th>\n",
       "      <th>Vehicle_Damage</th>\n",
       "      <th>Annual_Premium</th>\n",
       "      <th>Policy_Sales_Channel</th>\n",
       "      <th>Vintage</th>\n",
       "      <th>Response</th>\n",
       "    </tr>\n",
       "  </thead>\n",
       "  <tbody>\n",
       "    <tr>\n",
       "      <th>0</th>\n",
       "      <td>1</td>\n",
       "      <td>Male</td>\n",
       "      <td>44</td>\n",
       "      <td>1</td>\n",
       "      <td>28.0</td>\n",
       "      <td>0</td>\n",
       "      <td>&gt; 2 Years</td>\n",
       "      <td>Yes</td>\n",
       "      <td>40454.0</td>\n",
       "      <td>26.0</td>\n",
       "      <td>217</td>\n",
       "      <td>1</td>\n",
       "    </tr>\n",
       "    <tr>\n",
       "      <th>1</th>\n",
       "      <td>2</td>\n",
       "      <td>Male</td>\n",
       "      <td>76</td>\n",
       "      <td>1</td>\n",
       "      <td>3.0</td>\n",
       "      <td>0</td>\n",
       "      <td>1-2 Year</td>\n",
       "      <td>No</td>\n",
       "      <td>33536.0</td>\n",
       "      <td>26.0</td>\n",
       "      <td>183</td>\n",
       "      <td>0</td>\n",
       "    </tr>\n",
       "    <tr>\n",
       "      <th>2</th>\n",
       "      <td>3</td>\n",
       "      <td>Male</td>\n",
       "      <td>47</td>\n",
       "      <td>1</td>\n",
       "      <td>28.0</td>\n",
       "      <td>0</td>\n",
       "      <td>&gt; 2 Years</td>\n",
       "      <td>Yes</td>\n",
       "      <td>38294.0</td>\n",
       "      <td>26.0</td>\n",
       "      <td>27</td>\n",
       "      <td>1</td>\n",
       "    </tr>\n",
       "    <tr>\n",
       "      <th>3</th>\n",
       "      <td>4</td>\n",
       "      <td>Male</td>\n",
       "      <td>21</td>\n",
       "      <td>1</td>\n",
       "      <td>11.0</td>\n",
       "      <td>1</td>\n",
       "      <td>&lt; 1 Year</td>\n",
       "      <td>No</td>\n",
       "      <td>28619.0</td>\n",
       "      <td>152.0</td>\n",
       "      <td>203</td>\n",
       "      <td>0</td>\n",
       "    </tr>\n",
       "    <tr>\n",
       "      <th>4</th>\n",
       "      <td>5</td>\n",
       "      <td>Female</td>\n",
       "      <td>29</td>\n",
       "      <td>1</td>\n",
       "      <td>41.0</td>\n",
       "      <td>1</td>\n",
       "      <td>&lt; 1 Year</td>\n",
       "      <td>No</td>\n",
       "      <td>27496.0</td>\n",
       "      <td>152.0</td>\n",
       "      <td>39</td>\n",
       "      <td>0</td>\n",
       "    </tr>\n",
       "  </tbody>\n",
       "</table>\n",
       "</div>"
      ],
      "text/plain": [
       "   id  Gender  Age  Driving_License  Region_Code  Previously_Insured  \\\n",
       "0   1    Male   44                1         28.0                   0   \n",
       "1   2    Male   76                1          3.0                   0   \n",
       "2   3    Male   47                1         28.0                   0   \n",
       "3   4    Male   21                1         11.0                   1   \n",
       "4   5  Female   29                1         41.0                   1   \n",
       "\n",
       "  Vehicle_Age Vehicle_Damage  Annual_Premium  Policy_Sales_Channel  Vintage  \\\n",
       "0   > 2 Years            Yes         40454.0                  26.0      217   \n",
       "1    1-2 Year             No         33536.0                  26.0      183   \n",
       "2   > 2 Years            Yes         38294.0                  26.0       27   \n",
       "3    < 1 Year             No         28619.0                 152.0      203   \n",
       "4    < 1 Year             No         27496.0                 152.0       39   \n",
       "\n",
       "   Response  \n",
       "0         1  \n",
       "1         0  \n",
       "2         1  \n",
       "3         0  \n",
       "4         0  "
      ]
     },
     "execution_count": 3,
     "metadata": {},
     "output_type": "execute_result"
    }
   ],
   "source": [
    "\n",
    "train.head()"
   ]
  },
  {
   "cell_type": "markdown",
   "id": "cceb8fa5",
   "metadata": {},
   "source": [
    "# Get info..."
   ]
  },
  {
   "cell_type": "code",
   "execution_count": 4,
   "id": "9b28b1d9",
   "metadata": {},
   "outputs": [
    {
     "name": "stdout",
     "output_type": "stream",
     "text": [
      "<class 'pandas.core.frame.DataFrame'>\n",
      "RangeIndex: 381109 entries, 0 to 381108\n",
      "Data columns (total 12 columns):\n",
      " #   Column                Non-Null Count   Dtype  \n",
      "---  ------                --------------   -----  \n",
      " 0   id                    381109 non-null  int64  \n",
      " 1   Gender                381109 non-null  object \n",
      " 2   Age                   381109 non-null  int64  \n",
      " 3   Driving_License       381109 non-null  int64  \n",
      " 4   Region_Code           381109 non-null  float64\n",
      " 5   Previously_Insured    381109 non-null  int64  \n",
      " 6   Vehicle_Age           381109 non-null  object \n",
      " 7   Vehicle_Damage        381109 non-null  object \n",
      " 8   Annual_Premium        381109 non-null  float64\n",
      " 9   Policy_Sales_Channel  381109 non-null  float64\n",
      " 10  Vintage               381109 non-null  int64  \n",
      " 11  Response              381109 non-null  int64  \n",
      "dtypes: float64(3), int64(6), object(3)\n",
      "memory usage: 34.9+ MB\n"
     ]
    }
   ],
   "source": [
    "train.info()"
   ]
  },
  {
   "cell_type": "markdown",
   "id": "b974ee87",
   "metadata": {},
   "source": [
    "# Get the summary statistics"
   ]
  },
  {
   "cell_type": "code",
   "execution_count": 5,
   "id": "8a806cfd",
   "metadata": {},
   "outputs": [
    {
     "data": {
      "text/html": [
       "<div>\n",
       "<style scoped>\n",
       "    .dataframe tbody tr th:only-of-type {\n",
       "        vertical-align: middle;\n",
       "    }\n",
       "\n",
       "    .dataframe tbody tr th {\n",
       "        vertical-align: top;\n",
       "    }\n",
       "\n",
       "    .dataframe thead th {\n",
       "        text-align: right;\n",
       "    }\n",
       "</style>\n",
       "<table border=\"1\" class=\"dataframe\">\n",
       "  <thead>\n",
       "    <tr style=\"text-align: right;\">\n",
       "      <th></th>\n",
       "      <th>count</th>\n",
       "      <th>mean</th>\n",
       "      <th>std</th>\n",
       "      <th>min</th>\n",
       "      <th>25%</th>\n",
       "      <th>50%</th>\n",
       "      <th>75%</th>\n",
       "      <th>max</th>\n",
       "    </tr>\n",
       "  </thead>\n",
       "  <tbody>\n",
       "    <tr>\n",
       "      <th>id</th>\n",
       "      <td>381109.0</td>\n",
       "      <td>190555.000000</td>\n",
       "      <td>110016.836208</td>\n",
       "      <td>1.0</td>\n",
       "      <td>95278.0</td>\n",
       "      <td>190555.0</td>\n",
       "      <td>285832.0</td>\n",
       "      <td>381109.0</td>\n",
       "    </tr>\n",
       "    <tr>\n",
       "      <th>Age</th>\n",
       "      <td>381109.0</td>\n",
       "      <td>38.822584</td>\n",
       "      <td>15.511611</td>\n",
       "      <td>20.0</td>\n",
       "      <td>25.0</td>\n",
       "      <td>36.0</td>\n",
       "      <td>49.0</td>\n",
       "      <td>85.0</td>\n",
       "    </tr>\n",
       "    <tr>\n",
       "      <th>Driving_License</th>\n",
       "      <td>381109.0</td>\n",
       "      <td>0.997869</td>\n",
       "      <td>0.046110</td>\n",
       "      <td>0.0</td>\n",
       "      <td>1.0</td>\n",
       "      <td>1.0</td>\n",
       "      <td>1.0</td>\n",
       "      <td>1.0</td>\n",
       "    </tr>\n",
       "    <tr>\n",
       "      <th>Region_Code</th>\n",
       "      <td>381109.0</td>\n",
       "      <td>26.388807</td>\n",
       "      <td>13.229888</td>\n",
       "      <td>0.0</td>\n",
       "      <td>15.0</td>\n",
       "      <td>28.0</td>\n",
       "      <td>35.0</td>\n",
       "      <td>52.0</td>\n",
       "    </tr>\n",
       "    <tr>\n",
       "      <th>Previously_Insured</th>\n",
       "      <td>381109.0</td>\n",
       "      <td>0.458210</td>\n",
       "      <td>0.498251</td>\n",
       "      <td>0.0</td>\n",
       "      <td>0.0</td>\n",
       "      <td>0.0</td>\n",
       "      <td>1.0</td>\n",
       "      <td>1.0</td>\n",
       "    </tr>\n",
       "    <tr>\n",
       "      <th>Annual_Premium</th>\n",
       "      <td>381109.0</td>\n",
       "      <td>30564.389581</td>\n",
       "      <td>17213.155057</td>\n",
       "      <td>2630.0</td>\n",
       "      <td>24405.0</td>\n",
       "      <td>31669.0</td>\n",
       "      <td>39400.0</td>\n",
       "      <td>540165.0</td>\n",
       "    </tr>\n",
       "    <tr>\n",
       "      <th>Policy_Sales_Channel</th>\n",
       "      <td>381109.0</td>\n",
       "      <td>112.034295</td>\n",
       "      <td>54.203995</td>\n",
       "      <td>1.0</td>\n",
       "      <td>29.0</td>\n",
       "      <td>133.0</td>\n",
       "      <td>152.0</td>\n",
       "      <td>163.0</td>\n",
       "    </tr>\n",
       "    <tr>\n",
       "      <th>Vintage</th>\n",
       "      <td>381109.0</td>\n",
       "      <td>154.347397</td>\n",
       "      <td>83.671304</td>\n",
       "      <td>10.0</td>\n",
       "      <td>82.0</td>\n",
       "      <td>154.0</td>\n",
       "      <td>227.0</td>\n",
       "      <td>299.0</td>\n",
       "    </tr>\n",
       "    <tr>\n",
       "      <th>Response</th>\n",
       "      <td>381109.0</td>\n",
       "      <td>0.122563</td>\n",
       "      <td>0.327936</td>\n",
       "      <td>0.0</td>\n",
       "      <td>0.0</td>\n",
       "      <td>0.0</td>\n",
       "      <td>0.0</td>\n",
       "      <td>1.0</td>\n",
       "    </tr>\n",
       "  </tbody>\n",
       "</table>\n",
       "</div>"
      ],
      "text/plain": [
       "                         count           mean            std     min      25%  \\\n",
       "id                    381109.0  190555.000000  110016.836208     1.0  95278.0   \n",
       "Age                   381109.0      38.822584      15.511611    20.0     25.0   \n",
       "Driving_License       381109.0       0.997869       0.046110     0.0      1.0   \n",
       "Region_Code           381109.0      26.388807      13.229888     0.0     15.0   \n",
       "Previously_Insured    381109.0       0.458210       0.498251     0.0      0.0   \n",
       "Annual_Premium        381109.0   30564.389581   17213.155057  2630.0  24405.0   \n",
       "Policy_Sales_Channel  381109.0     112.034295      54.203995     1.0     29.0   \n",
       "Vintage               381109.0     154.347397      83.671304    10.0     82.0   \n",
       "Response              381109.0       0.122563       0.327936     0.0      0.0   \n",
       "\n",
       "                           50%       75%       max  \n",
       "id                    190555.0  285832.0  381109.0  \n",
       "Age                       36.0      49.0      85.0  \n",
       "Driving_License            1.0       1.0       1.0  \n",
       "Region_Code               28.0      35.0      52.0  \n",
       "Previously_Insured         0.0       1.0       1.0  \n",
       "Annual_Premium         31669.0   39400.0  540165.0  \n",
       "Policy_Sales_Channel     133.0     152.0     163.0  \n",
       "Vintage                  154.0     227.0     299.0  \n",
       "Response                   0.0       0.0       1.0  "
      ]
     },
     "execution_count": 5,
     "metadata": {},
     "output_type": "execute_result"
    }
   ],
   "source": [
    "train.describe().T"
   ]
  },
  {
   "cell_type": "markdown",
   "id": "811bdcf7",
   "metadata": {},
   "source": [
    "# Read the data and analysis.(Check the shape, null values, Data types, EDA)."
   ]
  },
  {
   "cell_type": "markdown",
   "id": "5e2e6415",
   "metadata": {},
   "source": [
    "\n",
    "# Checking for shape of data....\n"
   ]
  },
  {
   "cell_type": "code",
   "execution_count": 6,
   "id": "1c8375d0",
   "metadata": {},
   "outputs": [
    {
     "data": {
      "text/plain": [
       "(381109, 12)"
      ]
     },
     "execution_count": 6,
     "metadata": {},
     "output_type": "execute_result"
    }
   ],
   "source": [
    "train.shape"
   ]
  },
  {
   "cell_type": "markdown",
   "id": "4c5434a3",
   "metadata": {},
   "source": [
    "# Checking for null value...."
   ]
  },
  {
   "cell_type": "code",
   "execution_count": 7,
   "id": "74d09ada",
   "metadata": {},
   "outputs": [
    {
     "data": {
      "text/plain": [
       "id                      0\n",
       "Gender                  0\n",
       "Age                     0\n",
       "Driving_License         0\n",
       "Region_Code             0\n",
       "Previously_Insured      0\n",
       "Vehicle_Age             0\n",
       "Vehicle_Damage          0\n",
       "Annual_Premium          0\n",
       "Policy_Sales_Channel    0\n",
       "Vintage                 0\n",
       "Response                0\n",
       "dtype: int64"
      ]
     },
     "execution_count": 7,
     "metadata": {},
     "output_type": "execute_result"
    }
   ],
   "source": [
    "train.isnull().sum()"
   ]
  },
  {
   "cell_type": "markdown",
   "id": "abe156b2",
   "metadata": {},
   "source": [
    "# Checking data type..."
   ]
  },
  {
   "cell_type": "code",
   "execution_count": 8,
   "id": "0ac20926",
   "metadata": {},
   "outputs": [
    {
     "data": {
      "text/plain": [
       "id                   int64\n",
       "Gender              object\n",
       "Age                  int64\n",
       "Driving_License      int64\n",
       "Region_Code        float64\n",
       "dtype: object"
      ]
     },
     "execution_count": 8,
     "metadata": {},
     "output_type": "execute_result"
    }
   ],
   "source": [
    "train.dtypes.head()"
   ]
  },
  {
   "cell_type": "code",
   "execution_count": 9,
   "id": "375acc8e",
   "metadata": {},
   "outputs": [
    {
     "data": {
      "text/html": [
       "<div>\n",
       "<style scoped>\n",
       "    .dataframe tbody tr th:only-of-type {\n",
       "        vertical-align: middle;\n",
       "    }\n",
       "\n",
       "    .dataframe tbody tr th {\n",
       "        vertical-align: top;\n",
       "    }\n",
       "\n",
       "    .dataframe thead th {\n",
       "        text-align: right;\n",
       "    }\n",
       "</style>\n",
       "<table border=\"1\" class=\"dataframe\">\n",
       "  <thead>\n",
       "    <tr style=\"text-align: right;\">\n",
       "      <th></th>\n",
       "      <th>Gender</th>\n",
       "      <th>Vehicle_Age</th>\n",
       "      <th>Vehicle_Damage</th>\n",
       "    </tr>\n",
       "  </thead>\n",
       "  <tbody>\n",
       "    <tr>\n",
       "      <th>0</th>\n",
       "      <td>Male</td>\n",
       "      <td>&gt; 2 Years</td>\n",
       "      <td>Yes</td>\n",
       "    </tr>\n",
       "    <tr>\n",
       "      <th>1</th>\n",
       "      <td>Male</td>\n",
       "      <td>1-2 Year</td>\n",
       "      <td>No</td>\n",
       "    </tr>\n",
       "    <tr>\n",
       "      <th>2</th>\n",
       "      <td>Male</td>\n",
       "      <td>&gt; 2 Years</td>\n",
       "      <td>Yes</td>\n",
       "    </tr>\n",
       "    <tr>\n",
       "      <th>3</th>\n",
       "      <td>Male</td>\n",
       "      <td>&lt; 1 Year</td>\n",
       "      <td>No</td>\n",
       "    </tr>\n",
       "    <tr>\n",
       "      <th>4</th>\n",
       "      <td>Female</td>\n",
       "      <td>&lt; 1 Year</td>\n",
       "      <td>No</td>\n",
       "    </tr>\n",
       "  </tbody>\n",
       "</table>\n",
       "</div>"
      ],
      "text/plain": [
       "   Gender Vehicle_Age Vehicle_Damage\n",
       "0    Male   > 2 Years            Yes\n",
       "1    Male    1-2 Year             No\n",
       "2    Male   > 2 Years            Yes\n",
       "3    Male    < 1 Year             No\n",
       "4  Female    < 1 Year             No"
      ]
     },
     "execution_count": 9,
     "metadata": {},
     "output_type": "execute_result"
    }
   ],
   "source": [
    "train.select_dtypes(include=\"object\").head()"
   ]
  },
  {
   "cell_type": "markdown",
   "id": "004dbd33",
   "metadata": {},
   "source": [
    "#Here we have to convert the column Gender,Vehicle_Age and Vehicle_Damage in to flot/int dtype...."
   ]
  },
  {
   "cell_type": "markdown",
   "id": "2f9e068c",
   "metadata": {},
   "source": [
    "#By using map function......"
   ]
  },
  {
   "cell_type": "code",
   "execution_count": 10,
   "id": "d77d964c",
   "metadata": {},
   "outputs": [
    {
     "data": {
      "text/plain": [
       "array(['Male', 'Female'], dtype=object)"
      ]
     },
     "execution_count": 10,
     "metadata": {},
     "output_type": "execute_result"
    }
   ],
   "source": [
    "train['Gender'].unique()\n",
    "\n"
   ]
  },
  {
   "cell_type": "code",
   "execution_count": 11,
   "id": "7bff7f52",
   "metadata": {},
   "outputs": [],
   "source": [
    "g={'Male':1,'Female':0}\n",
    "train['NGender']=train['Gender'].map(g)"
   ]
  },
  {
   "cell_type": "code",
   "execution_count": 12,
   "id": "de8ff5c4",
   "metadata": {},
   "outputs": [
    {
     "data": {
      "text/plain": [
       "array(['> 2 Years', '1-2 Year', '< 1 Year'], dtype=object)"
      ]
     },
     "execution_count": 12,
     "metadata": {},
     "output_type": "execute_result"
    }
   ],
   "source": [
    "train['Vehicle_Age'].unique()\n"
   ]
  },
  {
   "cell_type": "code",
   "execution_count": 13,
   "id": "75911b37",
   "metadata": {},
   "outputs": [],
   "source": [
    "# By usging sklearn and LableEncoder....."
   ]
  },
  {
   "cell_type": "code",
   "execution_count": 14,
   "id": "d38ce50b",
   "metadata": {},
   "outputs": [],
   "source": [
    "from sklearn.preprocessing import LabelEncoder"
   ]
  },
  {
   "cell_type": "code",
   "execution_count": 15,
   "id": "b2f9a46d",
   "metadata": {},
   "outputs": [],
   "source": [
    "lb= LabelEncoder()"
   ]
  },
  {
   "cell_type": "code",
   "execution_count": 16,
   "id": "a7b28b52",
   "metadata": {},
   "outputs": [],
   "source": [
    "train['NVehicle_Age']=lb.fit_transform(train['Vehicle_Age'])"
   ]
  },
  {
   "cell_type": "code",
   "execution_count": 17,
   "id": "3b859107",
   "metadata": {},
   "outputs": [
    {
     "data": {
      "text/plain": [
       "0    2\n",
       "1    0\n",
       "2    2\n",
       "3    1\n",
       "4    1\n",
       "Name: NVehicle_Age, dtype: int32"
      ]
     },
     "execution_count": 17,
     "metadata": {},
     "output_type": "execute_result"
    }
   ],
   "source": [
    "train['NVehicle_Age'].head()"
   ]
  },
  {
   "cell_type": "code",
   "execution_count": 18,
   "id": "05618279",
   "metadata": {},
   "outputs": [
    {
     "data": {
      "text/plain": [
       "array(['Yes', 'No'], dtype=object)"
      ]
     },
     "execution_count": 18,
     "metadata": {},
     "output_type": "execute_result"
    }
   ],
   "source": [
    "train['Vehicle_Damage'].unique()\n"
   ]
  },
  {
   "cell_type": "code",
   "execution_count": 19,
   "id": "a553516b",
   "metadata": {},
   "outputs": [],
   "source": [
    "lb=LabelEncoder()"
   ]
  },
  {
   "cell_type": "code",
   "execution_count": 20,
   "id": "9d72a8d6",
   "metadata": {},
   "outputs": [],
   "source": [
    "train['NVehicle_Damage']=lb.fit_transform(train['Vehicle_Damage'])"
   ]
  },
  {
   "cell_type": "code",
   "execution_count": 21,
   "id": "9a7344f8",
   "metadata": {},
   "outputs": [
    {
     "data": {
      "text/html": [
       "<div>\n",
       "<style scoped>\n",
       "    .dataframe tbody tr th:only-of-type {\n",
       "        vertical-align: middle;\n",
       "    }\n",
       "\n",
       "    .dataframe tbody tr th {\n",
       "        vertical-align: top;\n",
       "    }\n",
       "\n",
       "    .dataframe thead th {\n",
       "        text-align: right;\n",
       "    }\n",
       "</style>\n",
       "<table border=\"1\" class=\"dataframe\">\n",
       "  <thead>\n",
       "    <tr style=\"text-align: right;\">\n",
       "      <th></th>\n",
       "      <th>id</th>\n",
       "      <th>Gender</th>\n",
       "      <th>Age</th>\n",
       "      <th>Driving_License</th>\n",
       "      <th>Region_Code</th>\n",
       "      <th>Previously_Insured</th>\n",
       "      <th>Vehicle_Age</th>\n",
       "      <th>Vehicle_Damage</th>\n",
       "      <th>Annual_Premium</th>\n",
       "      <th>Policy_Sales_Channel</th>\n",
       "      <th>Vintage</th>\n",
       "      <th>Response</th>\n",
       "      <th>NGender</th>\n",
       "      <th>NVehicle_Age</th>\n",
       "      <th>NVehicle_Damage</th>\n",
       "    </tr>\n",
       "  </thead>\n",
       "  <tbody>\n",
       "    <tr>\n",
       "      <th>0</th>\n",
       "      <td>1</td>\n",
       "      <td>Male</td>\n",
       "      <td>44</td>\n",
       "      <td>1</td>\n",
       "      <td>28.0</td>\n",
       "      <td>0</td>\n",
       "      <td>&gt; 2 Years</td>\n",
       "      <td>Yes</td>\n",
       "      <td>40454.0</td>\n",
       "      <td>26.0</td>\n",
       "      <td>217</td>\n",
       "      <td>1</td>\n",
       "      <td>1</td>\n",
       "      <td>2</td>\n",
       "      <td>1</td>\n",
       "    </tr>\n",
       "    <tr>\n",
       "      <th>1</th>\n",
       "      <td>2</td>\n",
       "      <td>Male</td>\n",
       "      <td>76</td>\n",
       "      <td>1</td>\n",
       "      <td>3.0</td>\n",
       "      <td>0</td>\n",
       "      <td>1-2 Year</td>\n",
       "      <td>No</td>\n",
       "      <td>33536.0</td>\n",
       "      <td>26.0</td>\n",
       "      <td>183</td>\n",
       "      <td>0</td>\n",
       "      <td>1</td>\n",
       "      <td>0</td>\n",
       "      <td>0</td>\n",
       "    </tr>\n",
       "    <tr>\n",
       "      <th>2</th>\n",
       "      <td>3</td>\n",
       "      <td>Male</td>\n",
       "      <td>47</td>\n",
       "      <td>1</td>\n",
       "      <td>28.0</td>\n",
       "      <td>0</td>\n",
       "      <td>&gt; 2 Years</td>\n",
       "      <td>Yes</td>\n",
       "      <td>38294.0</td>\n",
       "      <td>26.0</td>\n",
       "      <td>27</td>\n",
       "      <td>1</td>\n",
       "      <td>1</td>\n",
       "      <td>2</td>\n",
       "      <td>1</td>\n",
       "    </tr>\n",
       "    <tr>\n",
       "      <th>3</th>\n",
       "      <td>4</td>\n",
       "      <td>Male</td>\n",
       "      <td>21</td>\n",
       "      <td>1</td>\n",
       "      <td>11.0</td>\n",
       "      <td>1</td>\n",
       "      <td>&lt; 1 Year</td>\n",
       "      <td>No</td>\n",
       "      <td>28619.0</td>\n",
       "      <td>152.0</td>\n",
       "      <td>203</td>\n",
       "      <td>0</td>\n",
       "      <td>1</td>\n",
       "      <td>1</td>\n",
       "      <td>0</td>\n",
       "    </tr>\n",
       "    <tr>\n",
       "      <th>4</th>\n",
       "      <td>5</td>\n",
       "      <td>Female</td>\n",
       "      <td>29</td>\n",
       "      <td>1</td>\n",
       "      <td>41.0</td>\n",
       "      <td>1</td>\n",
       "      <td>&lt; 1 Year</td>\n",
       "      <td>No</td>\n",
       "      <td>27496.0</td>\n",
       "      <td>152.0</td>\n",
       "      <td>39</td>\n",
       "      <td>0</td>\n",
       "      <td>0</td>\n",
       "      <td>1</td>\n",
       "      <td>0</td>\n",
       "    </tr>\n",
       "  </tbody>\n",
       "</table>\n",
       "</div>"
      ],
      "text/plain": [
       "   id  Gender  Age  Driving_License  Region_Code  Previously_Insured  \\\n",
       "0   1    Male   44                1         28.0                   0   \n",
       "1   2    Male   76                1          3.0                   0   \n",
       "2   3    Male   47                1         28.0                   0   \n",
       "3   4    Male   21                1         11.0                   1   \n",
       "4   5  Female   29                1         41.0                   1   \n",
       "\n",
       "  Vehicle_Age Vehicle_Damage  Annual_Premium  Policy_Sales_Channel  Vintage  \\\n",
       "0   > 2 Years            Yes         40454.0                  26.0      217   \n",
       "1    1-2 Year             No         33536.0                  26.0      183   \n",
       "2   > 2 Years            Yes         38294.0                  26.0       27   \n",
       "3    < 1 Year             No         28619.0                 152.0      203   \n",
       "4    < 1 Year             No         27496.0                 152.0       39   \n",
       "\n",
       "   Response  NGender  NVehicle_Age  NVehicle_Damage  \n",
       "0         1        1             2                1  \n",
       "1         0        1             0                0  \n",
       "2         1        1             2                1  \n",
       "3         0        1             1                0  \n",
       "4         0        0             1                0  "
      ]
     },
     "execution_count": 21,
     "metadata": {},
     "output_type": "execute_result"
    }
   ],
   "source": [
    "train.head()"
   ]
  },
  {
   "cell_type": "code",
   "execution_count": 22,
   "id": "57a4fafa",
   "metadata": {},
   "outputs": [
    {
     "data": {
      "text/plain": [
       "array(['No', 'Yes'], dtype=object)"
      ]
     },
     "execution_count": 22,
     "metadata": {},
     "output_type": "execute_result"
    }
   ],
   "source": [
    "lb.inverse_transform([0,1])"
   ]
  },
  {
   "cell_type": "code",
   "execution_count": 23,
   "id": "eb512d6c",
   "metadata": {},
   "outputs": [],
   "source": [
    "# Now we drope the chatacrical column....."
   ]
  },
  {
   "cell_type": "code",
   "execution_count": 24,
   "id": "12cd378f",
   "metadata": {},
   "outputs": [],
   "source": [
    "train.drop(['Gender','Vehicle_Age','Vehicle_Damage'],axis=1,inplace=True)"
   ]
  },
  {
   "cell_type": "code",
   "execution_count": 25,
   "id": "bdb491b1",
   "metadata": {},
   "outputs": [
    {
     "name": "stdout",
     "output_type": "stream",
     "text": [
      "<class 'pandas.core.frame.DataFrame'>\n",
      "RangeIndex: 381109 entries, 0 to 381108\n",
      "Data columns (total 12 columns):\n",
      " #   Column                Non-Null Count   Dtype  \n",
      "---  ------                --------------   -----  \n",
      " 0   id                    381109 non-null  int64  \n",
      " 1   Age                   381109 non-null  int64  \n",
      " 2   Driving_License       381109 non-null  int64  \n",
      " 3   Region_Code           381109 non-null  float64\n",
      " 4   Previously_Insured    381109 non-null  int64  \n",
      " 5   Annual_Premium        381109 non-null  float64\n",
      " 6   Policy_Sales_Channel  381109 non-null  float64\n",
      " 7   Vintage               381109 non-null  int64  \n",
      " 8   Response              381109 non-null  int64  \n",
      " 9   NGender               381109 non-null  int64  \n",
      " 10  NVehicle_Age          381109 non-null  int32  \n",
      " 11  NVehicle_Damage       381109 non-null  int32  \n",
      "dtypes: float64(3), int32(2), int64(7)\n",
      "memory usage: 32.0 MB\n"
     ]
    }
   ],
   "source": [
    "train.info()"
   ]
  },
  {
   "cell_type": "code",
   "execution_count": 26,
   "id": "d3e6ecbd",
   "metadata": {},
   "outputs": [],
   "source": [
    "x=train.drop('Response',axis=1)"
   ]
  },
  {
   "cell_type": "markdown",
   "id": "e13024b2",
   "metadata": {},
   "source": [
    "# Here we observe the column Annual_Premium,Policy_Sales_Channel and Vintage having big values....\n",
    "# we have to scaling here........"
   ]
  },
  {
   "cell_type": "code",
   "execution_count": 27,
   "id": "745b171c",
   "metadata": {},
   "outputs": [],
   "source": [
    "from sklearn.preprocessing import StandardScaler"
   ]
  },
  {
   "cell_type": "code",
   "execution_count": 28,
   "id": "f427f64c",
   "metadata": {},
   "outputs": [],
   "source": [
    "std=StandardScaler()"
   ]
  },
  {
   "cell_type": "code",
   "execution_count": 29,
   "id": "5a1bfe57",
   "metadata": {},
   "outputs": [],
   "source": [
    "col=['Annual_Premium','Vintage','Policy_Sales_Channel']\n",
    "train_scaler=x[col]"
   ]
  },
  {
   "cell_type": "code",
   "execution_count": 30,
   "id": "babb4125",
   "metadata": {},
   "outputs": [],
   "source": [
    "x[col]=std.fit_transform(train_scaler)"
   ]
  },
  {
   "cell_type": "code",
   "execution_count": 31,
   "id": "76c4b889",
   "metadata": {},
   "outputs": [
    {
     "data": {
      "text/html": [
       "<div>\n",
       "<style scoped>\n",
       "    .dataframe tbody tr th:only-of-type {\n",
       "        vertical-align: middle;\n",
       "    }\n",
       "\n",
       "    .dataframe tbody tr th {\n",
       "        vertical-align: top;\n",
       "    }\n",
       "\n",
       "    .dataframe thead th {\n",
       "        text-align: right;\n",
       "    }\n",
       "</style>\n",
       "<table border=\"1\" class=\"dataframe\">\n",
       "  <thead>\n",
       "    <tr style=\"text-align: right;\">\n",
       "      <th></th>\n",
       "      <th>id</th>\n",
       "      <th>Age</th>\n",
       "      <th>Driving_License</th>\n",
       "      <th>Region_Code</th>\n",
       "      <th>Previously_Insured</th>\n",
       "      <th>Annual_Premium</th>\n",
       "      <th>Policy_Sales_Channel</th>\n",
       "      <th>Vintage</th>\n",
       "      <th>NGender</th>\n",
       "      <th>NVehicle_Age</th>\n",
       "      <th>NVehicle_Damage</th>\n",
       "    </tr>\n",
       "  </thead>\n",
       "  <tbody>\n",
       "    <tr>\n",
       "      <th>0</th>\n",
       "      <td>1</td>\n",
       "      <td>44</td>\n",
       "      <td>1</td>\n",
       "      <td>28.0</td>\n",
       "      <td>0</td>\n",
       "      <td>0.574539</td>\n",
       "      <td>-1.587234</td>\n",
       "      <td>0.748795</td>\n",
       "      <td>1</td>\n",
       "      <td>2</td>\n",
       "      <td>1</td>\n",
       "    </tr>\n",
       "    <tr>\n",
       "      <th>1</th>\n",
       "      <td>2</td>\n",
       "      <td>76</td>\n",
       "      <td>1</td>\n",
       "      <td>3.0</td>\n",
       "      <td>0</td>\n",
       "      <td>0.172636</td>\n",
       "      <td>-1.587234</td>\n",
       "      <td>0.342443</td>\n",
       "      <td>1</td>\n",
       "      <td>0</td>\n",
       "      <td>0</td>\n",
       "    </tr>\n",
       "    <tr>\n",
       "      <th>2</th>\n",
       "      <td>3</td>\n",
       "      <td>47</td>\n",
       "      <td>1</td>\n",
       "      <td>28.0</td>\n",
       "      <td>0</td>\n",
       "      <td>0.449053</td>\n",
       "      <td>-1.587234</td>\n",
       "      <td>-1.521998</td>\n",
       "      <td>1</td>\n",
       "      <td>2</td>\n",
       "      <td>1</td>\n",
       "    </tr>\n",
       "    <tr>\n",
       "      <th>3</th>\n",
       "      <td>4</td>\n",
       "      <td>21</td>\n",
       "      <td>1</td>\n",
       "      <td>11.0</td>\n",
       "      <td>1</td>\n",
       "      <td>-0.113018</td>\n",
       "      <td>0.737321</td>\n",
       "      <td>0.581474</td>\n",
       "      <td>1</td>\n",
       "      <td>1</td>\n",
       "      <td>0</td>\n",
       "    </tr>\n",
       "    <tr>\n",
       "      <th>4</th>\n",
       "      <td>5</td>\n",
       "      <td>29</td>\n",
       "      <td>1</td>\n",
       "      <td>41.0</td>\n",
       "      <td>1</td>\n",
       "      <td>-0.178259</td>\n",
       "      <td>0.737321</td>\n",
       "      <td>-1.378580</td>\n",
       "      <td>0</td>\n",
       "      <td>1</td>\n",
       "      <td>0</td>\n",
       "    </tr>\n",
       "  </tbody>\n",
       "</table>\n",
       "</div>"
      ],
      "text/plain": [
       "   id  Age  Driving_License  Region_Code  Previously_Insured  Annual_Premium  \\\n",
       "0   1   44                1         28.0                   0        0.574539   \n",
       "1   2   76                1          3.0                   0        0.172636   \n",
       "2   3   47                1         28.0                   0        0.449053   \n",
       "3   4   21                1         11.0                   1       -0.113018   \n",
       "4   5   29                1         41.0                   1       -0.178259   \n",
       "\n",
       "   Policy_Sales_Channel   Vintage  NGender  NVehicle_Age  NVehicle_Damage  \n",
       "0             -1.587234  0.748795        1             2                1  \n",
       "1             -1.587234  0.342443        1             0                0  \n",
       "2             -1.587234 -1.521998        1             2                1  \n",
       "3              0.737321  0.581474        1             1                0  \n",
       "4              0.737321 -1.378580        0             1                0  "
      ]
     },
     "execution_count": 31,
     "metadata": {},
     "output_type": "execute_result"
    }
   ],
   "source": [
    "x.head()"
   ]
  },
  {
   "cell_type": "raw",
   "id": "f699355d",
   "metadata": {},
   "source": []
  },
  {
   "cell_type": "code",
   "execution_count": 32,
   "id": "36492c9f",
   "metadata": {},
   "outputs": [
    {
     "data": {
      "text/plain": [
       "id                      0\n",
       "Age                     0\n",
       "Driving_License         0\n",
       "Region_Code             0\n",
       "Previously_Insured      0\n",
       "Annual_Premium          0\n",
       "Policy_Sales_Channel    0\n",
       "Vintage                 0\n",
       "NGender                 0\n",
       "NVehicle_Age            0\n",
       "NVehicle_Damage         0\n",
       "dtype: int64"
      ]
     },
     "execution_count": 32,
     "metadata": {},
     "output_type": "execute_result"
    }
   ],
   "source": [
    "x.isnull().sum()"
   ]
  },
  {
   "cell_type": "code",
   "execution_count": 33,
   "id": "46f54d22",
   "metadata": {},
   "outputs": [],
   "source": [
    "import seaborn as sns\n",
    "import matplotlib.pyplot as plt\n"
   ]
  },
  {
   "cell_type": "markdown",
   "id": "81892bd6",
   "metadata": {},
   "source": [
    "# Now we have to check outliars in each column......"
   ]
  },
  {
   "cell_type": "code",
   "execution_count": 34,
   "id": "a32529ac",
   "metadata": {},
   "outputs": [
    {
     "data": {
      "text/plain": [
       "<AxesSubplot:xlabel='Vintage'>"
      ]
     },
     "execution_count": 34,
     "metadata": {},
     "output_type": "execute_result"
    },
    {
     "data": {
      "image/png": "[encoded data removed]",
      "text/plain": [
       "<Figure size 1080x1800 with 5 Axes>"
      ]
     },
     "metadata": {
      "needs_background": "light"
     },
     "output_type": "display_data"
    }
   ],
   "source": [
    "plt.figure(figsize=(15,25))\n",
    "plt.subplot(5,1,1)\n",
    "sns.boxplot(x=x.Age,color='lightblue')\n",
    "\n",
    "\n",
    "plt.subplot(5,1,2)\n",
    "sns.boxplot(x=x.Region_Code,color='lightblue')\n",
    "\n",
    "\n",
    "plt.subplot(5,1,3)\n",
    "sns.boxplot(x=x.Annual_Premium,color='lightblue')\n",
    "\n",
    "\n",
    "plt.subplot(5,1,4)\n",
    "sns.boxplot(x=x.Policy_Sales_Channel,color='lightblue')\n",
    "\n",
    "\n",
    "plt.subplot(5,1,5)\n",
    "sns.boxplot(x=x.Vintage,color='lightblue')"
   ]
  },
  {
   "cell_type": "code",
   "execution_count": 35,
   "id": "896cbfb6",
   "metadata": {},
   "outputs": [],
   "source": [
    "#Here we get outliar in the column of Annual primium......."
   ]
  },
  {
   "cell_type": "code",
   "execution_count": 36,
   "id": "8856fe4b",
   "metadata": {},
   "outputs": [
    {
     "data": {
      "text/plain": [
       "1.7660872148961324"
      ]
     },
     "execution_count": 36,
     "metadata": {},
     "output_type": "execute_result"
    },
    {
     "data": {
      "image/png": "[encoded data removed]",
      "text/plain": [
       "<Figure size 360x360 with 1 Axes>"
      ]
     },
     "metadata": {
      "needs_background": "light"
     },
     "output_type": "display_data"
    }
   ],
   "source": [
    "sns.displot(x['Annual_Premium'])\n",
    "x['Annual_Premium'].skew()"
   ]
  },
  {
   "cell_type": "code",
   "execution_count": 37,
   "id": "4930d1b8",
   "metadata": {},
   "outputs": [],
   "source": [
    "#Removing Outlier from the column Annual_Premium......"
   ]
  },
  {
   "cell_type": "code",
   "execution_count": 38,
   "id": "5c6196b8",
   "metadata": {},
   "outputs": [
    {
     "data": {
      "text/html": [
       "<div>\n",
       "<style scoped>\n",
       "    .dataframe tbody tr th:only-of-type {\n",
       "        vertical-align: middle;\n",
       "    }\n",
       "\n",
       "    .dataframe tbody tr th {\n",
       "        vertical-align: top;\n",
       "    }\n",
       "\n",
       "    .dataframe thead th {\n",
       "        text-align: right;\n",
       "    }\n",
       "</style>\n",
       "<table border=\"1\" class=\"dataframe\">\n",
       "  <thead>\n",
       "    <tr style=\"text-align: right;\">\n",
       "      <th></th>\n",
       "      <th>id</th>\n",
       "      <th>Age</th>\n",
       "      <th>Driving_License</th>\n",
       "      <th>Region_Code</th>\n",
       "      <th>Previously_Insured</th>\n",
       "      <th>Annual_Premium</th>\n",
       "      <th>Policy_Sales_Channel</th>\n",
       "      <th>Vintage</th>\n",
       "      <th>NGender</th>\n",
       "      <th>NVehicle_Age</th>\n",
       "      <th>NVehicle_Damage</th>\n",
       "    </tr>\n",
       "  </thead>\n",
       "  <tbody>\n",
       "    <tr>\n",
       "      <th>0</th>\n",
       "      <td>1</td>\n",
       "      <td>44</td>\n",
       "      <td>1</td>\n",
       "      <td>28.0</td>\n",
       "      <td>0</td>\n",
       "      <td>0.574539</td>\n",
       "      <td>-1.587234</td>\n",
       "      <td>0.748795</td>\n",
       "      <td>1</td>\n",
       "      <td>2</td>\n",
       "      <td>1</td>\n",
       "    </tr>\n",
       "    <tr>\n",
       "      <th>1</th>\n",
       "      <td>2</td>\n",
       "      <td>76</td>\n",
       "      <td>1</td>\n",
       "      <td>3.0</td>\n",
       "      <td>0</td>\n",
       "      <td>0.172636</td>\n",
       "      <td>-1.587234</td>\n",
       "      <td>0.342443</td>\n",
       "      <td>1</td>\n",
       "      <td>0</td>\n",
       "      <td>0</td>\n",
       "    </tr>\n",
       "    <tr>\n",
       "      <th>2</th>\n",
       "      <td>3</td>\n",
       "      <td>47</td>\n",
       "      <td>1</td>\n",
       "      <td>28.0</td>\n",
       "      <td>0</td>\n",
       "      <td>0.449053</td>\n",
       "      <td>-1.587234</td>\n",
       "      <td>-1.521998</td>\n",
       "      <td>1</td>\n",
       "      <td>2</td>\n",
       "      <td>1</td>\n",
       "    </tr>\n",
       "    <tr>\n",
       "      <th>3</th>\n",
       "      <td>4</td>\n",
       "      <td>21</td>\n",
       "      <td>1</td>\n",
       "      <td>11.0</td>\n",
       "      <td>1</td>\n",
       "      <td>-0.113018</td>\n",
       "      <td>0.737321</td>\n",
       "      <td>0.581474</td>\n",
       "      <td>1</td>\n",
       "      <td>1</td>\n",
       "      <td>0</td>\n",
       "    </tr>\n",
       "    <tr>\n",
       "      <th>4</th>\n",
       "      <td>5</td>\n",
       "      <td>29</td>\n",
       "      <td>1</td>\n",
       "      <td>41.0</td>\n",
       "      <td>1</td>\n",
       "      <td>-0.178259</td>\n",
       "      <td>0.737321</td>\n",
       "      <td>-1.378580</td>\n",
       "      <td>0</td>\n",
       "      <td>1</td>\n",
       "      <td>0</td>\n",
       "    </tr>\n",
       "  </tbody>\n",
       "</table>\n",
       "</div>"
      ],
      "text/plain": [
       "   id  Age  Driving_License  Region_Code  Previously_Insured  Annual_Premium  \\\n",
       "0   1   44                1         28.0                   0        0.574539   \n",
       "1   2   76                1          3.0                   0        0.172636   \n",
       "2   3   47                1         28.0                   0        0.449053   \n",
       "3   4   21                1         11.0                   1       -0.113018   \n",
       "4   5   29                1         41.0                   1       -0.178259   \n",
       "\n",
       "   Policy_Sales_Channel   Vintage  NGender  NVehicle_Age  NVehicle_Damage  \n",
       "0             -1.587234  0.748795        1             2                1  \n",
       "1             -1.587234  0.342443        1             0                0  \n",
       "2             -1.587234 -1.521998        1             2                1  \n",
       "3              0.737321  0.581474        1             1                0  \n",
       "4              0.737321 -1.378580        0             1                0  "
      ]
     },
     "execution_count": 38,
     "metadata": {},
     "output_type": "execute_result"
    }
   ],
   "source": [
    "x.head()"
   ]
  },
  {
   "cell_type": "code",
   "execution_count": 39,
   "id": "ca901e8d",
   "metadata": {},
   "outputs": [],
   "source": [
    "Q1=x.quantile(0.25)\n",
    "Q3=x.quantile(0.75)\n",
    "IQR= Q3-Q1"
   ]
  },
  {
   "cell_type": "code",
   "execution_count": 40,
   "id": "ea771225",
   "metadata": {},
   "outputs": [
    {
     "data": {
      "text/plain": [
       "id                      95278.000000\n",
       "Age                        25.000000\n",
       "Driving_License             1.000000\n",
       "Region_Code                15.000000\n",
       "Previously_Insured          0.000000\n",
       "Annual_Premium             -0.357831\n",
       "Policy_Sales_Channel       -1.531887\n",
       "Vintage                    -0.864663\n",
       "NGender                     0.000000\n",
       "NVehicle_Age                0.000000\n",
       "NVehicle_Damage             0.000000\n",
       "Name: 0.25, dtype: float64"
      ]
     },
     "execution_count": 40,
     "metadata": {},
     "output_type": "execute_result"
    }
   ],
   "source": [
    "Q1"
   ]
  },
  {
   "cell_type": "code",
   "execution_count": 41,
   "id": "a0b37f94",
   "metadata": {},
   "outputs": [
    {
     "data": {
      "text/plain": [
       "id                      285832.000000\n",
       "Age                         49.000000\n",
       "Driving_License              1.000000\n",
       "Region_Code                 35.000000\n",
       "Previously_Insured           1.000000\n",
       "Annual_Premium               0.513306\n",
       "Policy_Sales_Channel         0.737321\n",
       "Vintage                      0.868311\n",
       "NGender                      1.000000\n",
       "NVehicle_Age                 1.000000\n",
       "NVehicle_Damage              1.000000\n",
       "Name: 0.75, dtype: float64"
      ]
     },
     "execution_count": 41,
     "metadata": {},
     "output_type": "execute_result"
    }
   ],
   "source": [
    "Q3"
   ]
  },
  {
   "cell_type": "code",
   "execution_count": 42,
   "id": "266b8f31",
   "metadata": {},
   "outputs": [
    {
     "data": {
      "text/plain": [
       "id                      190554.000000\n",
       "Age                         24.000000\n",
       "Driving_License              0.000000\n",
       "Region_Code                 20.000000\n",
       "Previously_Insured           1.000000\n",
       "Annual_Premium               0.871137\n",
       "Policy_Sales_Channel         2.269208\n",
       "Vintage                      1.732974\n",
       "NGender                      1.000000\n",
       "NVehicle_Age                 1.000000\n",
       "NVehicle_Damage              1.000000\n",
       "dtype: float64"
      ]
     },
     "execution_count": 42,
     "metadata": {},
     "output_type": "execute_result"
    }
   ],
   "source": [
    "IQR"
   ]
  },
  {
   "cell_type": "code",
   "execution_count": 43,
   "id": "aeacac62",
   "metadata": {},
   "outputs": [],
   "source": [
    "x = x[~((x< (Q1 - 1.5*IQR))| (x >(Q3 +1.5*IQR)))]"
   ]
  },
  {
   "cell_type": "code",
   "execution_count": 44,
   "id": "cd43f351",
   "metadata": {},
   "outputs": [
    {
     "name": "stderr",
     "output_type": "stream",
     "text": [
      "C:\\anaconda\\lib\\site-packages\\seaborn\\_decorators.py:36: FutureWarning: Pass the following variable as a keyword arg: x. From version 0.12, the only valid positional argument will be `data`, and passing other arguments without an explicit keyword will result in an error or misinterpretation.\n",
      "  warnings.warn(\n"
     ]
    },
    {
     "data": {
      "text/plain": [
       "<AxesSubplot:xlabel='Annual_Premium'>"
      ]
     },
     "execution_count": 44,
     "metadata": {},
     "output_type": "execute_result"
    },
    {
     "data": {
      "image/png": "[encoded data removed]",
      "text/plain": [
       "<Figure size 432x288 with 1 Axes>"
      ]
     },
     "metadata": {
      "needs_background": "light"
     },
     "output_type": "display_data"
    }
   ],
   "source": [
    "sns.boxplot(x['Annual_Premium'])"
   ]
  },
  {
   "cell_type": "code",
   "execution_count": 45,
   "id": "cedf1d7b",
   "metadata": {},
   "outputs": [
    {
     "data": {
      "text/plain": [
       "id                          0\n",
       "Age                         0\n",
       "Driving_License           812\n",
       "Region_Code                 0\n",
       "Previously_Insured          0\n",
       "Annual_Premium          10320\n",
       "Policy_Sales_Channel        0\n",
       "Vintage                     0\n",
       "NGender                     0\n",
       "NVehicle_Age                0\n",
       "NVehicle_Damage             0\n",
       "dtype: int64"
      ]
     },
     "execution_count": 45,
     "metadata": {},
     "output_type": "execute_result"
    }
   ],
   "source": [
    "x.isnull().sum()"
   ]
  },
  {
   "cell_type": "code",
   "execution_count": 46,
   "id": "a10f3338",
   "metadata": {},
   "outputs": [],
   "source": [
    "final_data=x.fillna(IQR)"
   ]
  },
  {
   "cell_type": "code",
   "execution_count": 47,
   "id": "754fbb84",
   "metadata": {},
   "outputs": [
    {
     "data": {
      "text/plain": [
       "id                      0\n",
       "Age                     0\n",
       "Driving_License         0\n",
       "Region_Code             0\n",
       "Previously_Insured      0\n",
       "Annual_Premium          0\n",
       "Policy_Sales_Channel    0\n",
       "Vintage                 0\n",
       "NGender                 0\n",
       "NVehicle_Age            0\n",
       "NVehicle_Damage         0\n",
       "dtype: int64"
      ]
     },
     "execution_count": 47,
     "metadata": {},
     "output_type": "execute_result"
    }
   ],
   "source": [
    "final_data.isnull().sum()"
   ]
  },
  {
   "cell_type": "code",
   "execution_count": 48,
   "id": "fa54a45c",
   "metadata": {},
   "outputs": [
    {
     "data": {
      "text/html": [
       "<div>\n",
       "<style scoped>\n",
       "    .dataframe tbody tr th:only-of-type {\n",
       "        vertical-align: middle;\n",
       "    }\n",
       "\n",
       "    .dataframe tbody tr th {\n",
       "        vertical-align: top;\n",
       "    }\n",
       "\n",
       "    .dataframe thead th {\n",
       "        text-align: right;\n",
       "    }\n",
       "</style>\n",
       "<table border=\"1\" class=\"dataframe\">\n",
       "  <thead>\n",
       "    <tr style=\"text-align: right;\">\n",
       "      <th></th>\n",
       "      <th>id</th>\n",
       "      <th>Age</th>\n",
       "      <th>Driving_License</th>\n",
       "      <th>Region_Code</th>\n",
       "      <th>Previously_Insured</th>\n",
       "      <th>Annual_Premium</th>\n",
       "      <th>Policy_Sales_Channel</th>\n",
       "      <th>Vintage</th>\n",
       "      <th>NGender</th>\n",
       "      <th>NVehicle_Age</th>\n",
       "      <th>NVehicle_Damage</th>\n",
       "    </tr>\n",
       "  </thead>\n",
       "  <tbody>\n",
       "    <tr>\n",
       "      <th>id</th>\n",
       "      <td>1.000000</td>\n",
       "      <td>0.001561</td>\n",
       "      <td>-0.000564</td>\n",
       "      <td>-0.000572</td>\n",
       "      <td>0.002457</td>\n",
       "      <td>0.002970</td>\n",
       "      <td>-0.002837</td>\n",
       "      <td>-0.000630</td>\n",
       "      <td>0.000999</td>\n",
       "      <td>-0.001345</td>\n",
       "      <td>-0.001507</td>\n",
       "    </tr>\n",
       "    <tr>\n",
       "      <th>Age</th>\n",
       "      <td>0.001561</td>\n",
       "      <td>1.000000</td>\n",
       "      <td>-0.079782</td>\n",
       "      <td>0.042574</td>\n",
       "      <td>-0.254682</td>\n",
       "      <td>0.059473</td>\n",
       "      <td>-0.577826</td>\n",
       "      <td>-0.001264</td>\n",
       "      <td>0.145545</td>\n",
       "      <td>-0.522300</td>\n",
       "      <td>0.267534</td>\n",
       "    </tr>\n",
       "    <tr>\n",
       "      <th>Driving_License</th>\n",
       "      <td>-0.000564</td>\n",
       "      <td>-0.079782</td>\n",
       "      <td>1.000000</td>\n",
       "      <td>-0.001081</td>\n",
       "      <td>0.014969</td>\n",
       "      <td>-0.011412</td>\n",
       "      <td>0.043731</td>\n",
       "      <td>-0.000848</td>\n",
       "      <td>-0.018374</td>\n",
       "      <td>0.030173</td>\n",
       "      <td>-0.016622</td>\n",
       "    </tr>\n",
       "    <tr>\n",
       "      <th>Region_Code</th>\n",
       "      <td>-0.000572</td>\n",
       "      <td>0.042574</td>\n",
       "      <td>-0.001081</td>\n",
       "      <td>1.000000</td>\n",
       "      <td>-0.024659</td>\n",
       "      <td>-0.006232</td>\n",
       "      <td>-0.042420</td>\n",
       "      <td>-0.002750</td>\n",
       "      <td>0.000604</td>\n",
       "      <td>-0.027840</td>\n",
       "      <td>0.028235</td>\n",
       "    </tr>\n",
       "    <tr>\n",
       "      <th>Previously_Insured</th>\n",
       "      <td>0.002457</td>\n",
       "      <td>-0.254682</td>\n",
       "      <td>0.014969</td>\n",
       "      <td>-0.024659</td>\n",
       "      <td>1.000000</td>\n",
       "      <td>0.010701</td>\n",
       "      <td>0.219381</td>\n",
       "      <td>0.002537</td>\n",
       "      <td>-0.081932</td>\n",
       "      <td>0.174783</td>\n",
       "      <td>-0.824143</td>\n",
       "    </tr>\n",
       "    <tr>\n",
       "      <th>Annual_Premium</th>\n",
       "      <td>0.002970</td>\n",
       "      <td>0.059473</td>\n",
       "      <td>-0.011412</td>\n",
       "      <td>-0.006232</td>\n",
       "      <td>0.010701</td>\n",
       "      <td>1.000000</td>\n",
       "      <td>-0.113660</td>\n",
       "      <td>-0.000833</td>\n",
       "      <td>0.002593</td>\n",
       "      <td>0.029694</td>\n",
       "      <td>0.004090</td>\n",
       "    </tr>\n",
       "    <tr>\n",
       "      <th>Policy_Sales_Channel</th>\n",
       "      <td>-0.002837</td>\n",
       "      <td>-0.577826</td>\n",
       "      <td>0.043731</td>\n",
       "      <td>-0.042420</td>\n",
       "      <td>0.219381</td>\n",
       "      <td>-0.113660</td>\n",
       "      <td>1.000000</td>\n",
       "      <td>0.000002</td>\n",
       "      <td>-0.111159</td>\n",
       "      <td>0.388551</td>\n",
       "      <td>-0.224377</td>\n",
       "    </tr>\n",
       "    <tr>\n",
       "      <th>Vintage</th>\n",
       "      <td>-0.000630</td>\n",
       "      <td>-0.001264</td>\n",
       "      <td>-0.000848</td>\n",
       "      <td>-0.002750</td>\n",
       "      <td>0.002537</td>\n",
       "      <td>-0.000833</td>\n",
       "      <td>0.000002</td>\n",
       "      <td>1.000000</td>\n",
       "      <td>-0.002517</td>\n",
       "      <td>0.002484</td>\n",
       "      <td>-0.002064</td>\n",
       "    </tr>\n",
       "    <tr>\n",
       "      <th>NGender</th>\n",
       "      <td>0.000999</td>\n",
       "      <td>0.145545</td>\n",
       "      <td>-0.018374</td>\n",
       "      <td>0.000604</td>\n",
       "      <td>-0.081932</td>\n",
       "      <td>0.002593</td>\n",
       "      <td>-0.111159</td>\n",
       "      <td>-0.002517</td>\n",
       "      <td>1.000000</td>\n",
       "      <td>-0.112625</td>\n",
       "      <td>0.091606</td>\n",
       "    </tr>\n",
       "    <tr>\n",
       "      <th>NVehicle_Age</th>\n",
       "      <td>-0.001345</td>\n",
       "      <td>-0.522300</td>\n",
       "      <td>0.030173</td>\n",
       "      <td>-0.027840</td>\n",
       "      <td>0.174783</td>\n",
       "      <td>0.029694</td>\n",
       "      <td>0.388551</td>\n",
       "      <td>0.002484</td>\n",
       "      <td>-0.112625</td>\n",
       "      <td>1.000000</td>\n",
       "      <td>-0.174238</td>\n",
       "    </tr>\n",
       "    <tr>\n",
       "      <th>NVehicle_Damage</th>\n",
       "      <td>-0.001507</td>\n",
       "      <td>0.267534</td>\n",
       "      <td>-0.016622</td>\n",
       "      <td>0.028235</td>\n",
       "      <td>-0.824143</td>\n",
       "      <td>0.004090</td>\n",
       "      <td>-0.224377</td>\n",
       "      <td>-0.002064</td>\n",
       "      <td>0.091606</td>\n",
       "      <td>-0.174238</td>\n",
       "      <td>1.000000</td>\n",
       "    </tr>\n",
       "  </tbody>\n",
       "</table>\n",
       "</div>"
      ],
      "text/plain": [
       "                            id       Age  Driving_License  Region_Code  \\\n",
       "id                    1.000000  0.001561        -0.000564    -0.000572   \n",
       "Age                   0.001561  1.000000        -0.079782     0.042574   \n",
       "Driving_License      -0.000564 -0.079782         1.000000    -0.001081   \n",
       "Region_Code          -0.000572  0.042574        -0.001081     1.000000   \n",
       "Previously_Insured    0.002457 -0.254682         0.014969    -0.024659   \n",
       "Annual_Premium        0.002970  0.059473        -0.011412    -0.006232   \n",
       "Policy_Sales_Channel -0.002837 -0.577826         0.043731    -0.042420   \n",
       "Vintage              -0.000630 -0.001264        -0.000848    -0.002750   \n",
       "NGender               0.000999  0.145545        -0.018374     0.000604   \n",
       "NVehicle_Age         -0.001345 -0.522300         0.030173    -0.027840   \n",
       "NVehicle_Damage      -0.001507  0.267534        -0.016622     0.028235   \n",
       "\n",
       "                      Previously_Insured  Annual_Premium  \\\n",
       "id                              0.002457        0.002970   \n",
       "Age                            -0.254682        0.059473   \n",
       "Driving_License                 0.014969       -0.011412   \n",
       "Region_Code                    -0.024659       -0.006232   \n",
       "Previously_Insured              1.000000        0.010701   \n",
       "Annual_Premium                  0.010701        1.000000   \n",
       "Policy_Sales_Channel            0.219381       -0.113660   \n",
       "Vintage                         0.002537       -0.000833   \n",
       "NGender                        -0.081932        0.002593   \n",
       "NVehicle_Age                    0.174783        0.029694   \n",
       "NVehicle_Damage                -0.824143        0.004090   \n",
       "\n",
       "                      Policy_Sales_Channel   Vintage   NGender  NVehicle_Age  \\\n",
       "id                               -0.002837 -0.000630  0.000999     -0.001345   \n",
       "Age                              -0.577826 -0.001264  0.145545     -0.522300   \n",
       "Driving_License                   0.043731 -0.000848 -0.018374      0.030173   \n",
       "Region_Code                      -0.042420 -0.002750  0.000604     -0.027840   \n",
       "Previously_Insured                0.219381  0.002537 -0.081932      0.174783   \n",
       "Annual_Premium                   -0.113660 -0.000833  0.002593      0.029694   \n",
       "Policy_Sales_Channel              1.000000  0.000002 -0.111159      0.388551   \n",
       "Vintage                           0.000002  1.000000 -0.002517      0.002484   \n",
       "NGender                          -0.111159 -0.002517  1.000000     -0.112625   \n",
       "NVehicle_Age                      0.388551  0.002484 -0.112625      1.000000   \n",
       "NVehicle_Damage                  -0.224377 -0.002064  0.091606     -0.174238   \n",
       "\n",
       "                      NVehicle_Damage  \n",
       "id                          -0.001507  \n",
       "Age                          0.267534  \n",
       "Driving_License             -0.016622  \n",
       "Region_Code                  0.028235  \n",
       "Previously_Insured          -0.824143  \n",
       "Annual_Premium               0.004090  \n",
       "Policy_Sales_Channel        -0.224377  \n",
       "Vintage                     -0.002064  \n",
       "NGender                      0.091606  \n",
       "NVehicle_Age                -0.174238  \n",
       "NVehicle_Damage              1.000000  "
      ]
     },
     "execution_count": 48,
     "metadata": {},
     "output_type": "execute_result"
    }
   ],
   "source": [
    "final_data.corr()"
   ]
  },
  {
   "cell_type": "code",
   "execution_count": 49,
   "id": "0022b529",
   "metadata": {},
   "outputs": [
    {
     "data": {
      "text/plain": [
       "<AxesSubplot:>"
      ]
     },
     "execution_count": 49,
     "metadata": {},
     "output_type": "execute_result"
    },
    {
     "data": {
      "image/png": "[encoded data removed]",
      "text/plain": [
       "<Figure size 1440x1080 with 2 Axes>"
      ]
     },
     "metadata": {
      "needs_background": "light"
     },
     "output_type": "display_data"
    }
   ],
   "source": [
    "plt.figure(figsize=(20,15))\n",
    "sns.heatmap(final_data.corr(),annot=True)"
   ]
  },
  {
   "cell_type": "markdown",
   "id": "e22796aa",
   "metadata": {},
   "source": [
    "# Predict output by using LogisticRegrassion\n"
   ]
  },
  {
   "cell_type": "code",
   "execution_count": 50,
   "id": "e492d47d",
   "metadata": {},
   "outputs": [],
   "source": [
    "x=final_data\n",
    "y=train['Response']"
   ]
  },
  {
   "cell_type": "code",
   "execution_count": 51,
   "id": "b058e61d",
   "metadata": {},
   "outputs": [
    {
     "data": {
      "text/plain": [
       "0    334399\n",
       "1     46710\n",
       "Name: Response, dtype: int64"
      ]
     },
     "execution_count": 51,
     "metadata": {},
     "output_type": "execute_result"
    }
   ],
   "source": [
    "train['Response'].value_counts()"
   ]
  },
  {
   "cell_type": "code",
   "execution_count": 52,
   "id": "15e2a3e2",
   "metadata": {},
   "outputs": [],
   "source": [
    "from sklearn.linear_model import LogisticRegression"
   ]
  },
  {
   "cell_type": "code",
   "execution_count": 53,
   "id": "2e1a7ae3",
   "metadata": {},
   "outputs": [],
   "source": [
    "model=LogisticRegression()"
   ]
  },
  {
   "cell_type": "code",
   "execution_count": 54,
   "id": "7ccef356",
   "metadata": {},
   "outputs": [
    {
     "data": {
      "text/plain": [
       "LogisticRegression()"
      ]
     },
     "execution_count": 54,
     "metadata": {},
     "output_type": "execute_result"
    }
   ],
   "source": [
    "model.fit(x,y)"
   ]
  },
  {
   "cell_type": "code",
   "execution_count": 55,
   "id": "83b01923",
   "metadata": {},
   "outputs": [
    {
     "data": {
      "text/plain": [
       "0.877436638861848"
      ]
     },
     "execution_count": 55,
     "metadata": {},
     "output_type": "execute_result"
    }
   ],
   "source": [
    "score=model.score(x,y)\n",
    "score"
   ]
  },
  {
   "cell_type": "code",
   "execution_count": 67,
   "id": "af6d37b0",
   "metadata": {},
   "outputs": [
    {
     "data": {
      "text/plain": [
       "array([0, 0, 0, ..., 0, 0, 0], dtype=int64)"
      ]
     },
     "execution_count": 67,
     "metadata": {},
     "output_type": "execute_result"
    }
   ],
   "source": [
    "pred_train=model.predict(x)\n",
    "pred_train"
   ]
  },
  {
   "cell_type": "markdown",
   "id": "2a7814e9",
   "metadata": {},
   "source": [
    "# Checking Error...."
   ]
  },
  {
   "cell_type": "code",
   "execution_count": 72,
   "id": "994ea74e",
   "metadata": {},
   "outputs": [],
   "source": [
    "from sklearn.metrics import accuracy_score, classification_report, plot_confusion_matrix\n",
    "from sklearn.metrics import confusion_matrix,accuracy_score"
   ]
  },
  {
   "cell_type": "code",
   "execution_count": 73,
   "id": "70beef24",
   "metadata": {},
   "outputs": [
    {
     "data": {
      "text/plain": [
       "array([[334399,      0],\n",
       "       [ 46710,      0]], dtype=int64)"
      ]
     },
     "execution_count": 73,
     "metadata": {},
     "output_type": "execute_result"
    }
   ],
   "source": [
    "confusion_matrix(y,pred_train)\n"
   ]
  },
  {
   "cell_type": "code",
   "execution_count": 74,
   "id": "28f0e8ac",
   "metadata": {},
   "outputs": [
    {
     "data": {
      "text/plain": [
       "0.877436638861848"
      ]
     },
     "execution_count": 74,
     "metadata": {},
     "output_type": "execute_result"
    }
   ],
   "source": [
    "accuracy_score(y,pred_train)"
   ]
  },
  {
   "cell_type": "markdown",
   "id": "30c218d2",
   "metadata": {},
   "source": [
    "# Use Decision Tree Classifire for improving accuracy of model"
   ]
  },
  {
   "cell_type": "code",
   "execution_count": 77,
   "id": "664db244",
   "metadata": {},
   "outputs": [],
   "source": [
    "from sklearn.tree import DecisionTreeClassifier\n"
   ]
  },
  {
   "cell_type": "code",
   "execution_count": 81,
   "id": "bd0b5da1",
   "metadata": {},
   "outputs": [
    {
     "data": {
      "text/plain": [
       "array([1, 0, 1, ..., 0, 0, 0], dtype=int64)"
      ]
     },
     "execution_count": 81,
     "metadata": {},
     "output_type": "execute_result"
    }
   ],
   "source": [
    "model1 = DecisionTreeClassifier(criterion='entropy')\n",
    "model_training = model1.fit(x,y)\n",
    "pred1 = model_training.predict(x)\n",
    "pred1"
   ]
  },
  {
   "cell_type": "code",
   "execution_count": 82,
   "id": "f115fe5f",
   "metadata": {},
   "outputs": [
    {
     "data": {
      "text/plain": [
       "array([[334399,      0],\n",
       "       [     0,  46710]], dtype=int64)"
      ]
     },
     "execution_count": 82,
     "metadata": {},
     "output_type": "execute_result"
    }
   ],
   "source": [
    "confusion_matrix(y,pred1)\n"
   ]
  },
  {
   "cell_type": "code",
   "execution_count": 83,
   "id": "a694cbb7",
   "metadata": {},
   "outputs": [
    {
     "data": {
      "text/plain": [
       "1.0"
      ]
     },
     "execution_count": 83,
     "metadata": {},
     "output_type": "execute_result"
    }
   ],
   "source": [
    "accuracy_score(y,pred1)"
   ]
  },
  {
   "cell_type": "code",
   "execution_count": 84,
   "id": "f041ffd0",
   "metadata": {},
   "outputs": [
    {
     "data": {
      "text/plain": [
       "<AxesSubplot:>"
      ]
     },
     "execution_count": 84,
     "metadata": {},
     "output_type": "execute_result"
    },
    {
     "data": {
      "image/png": "[encoded data removed]",
      "text/plain": [
       "<Figure size 432x288 with 2 Axes>"
      ]
     },
     "metadata": {
      "needs_background": "light"
     },
     "output_type": "display_data"
    }
   ],
   "source": [
    "sns.heatmap(confusion_matrix(y,pred1),annot = True)"
   ]
  },
  {
   "cell_type": "markdown",
   "id": "3c17dc7a",
   "metadata": {},
   "source": [
    "# Predicting Y(Responce) for Test Data.."
   ]
  },
  {
   "cell_type": "code",
   "execution_count": 59,
   "id": "94ec3194",
   "metadata": {},
   "outputs": [],
   "source": [
    "from sklearn.preprocessing import LabelEncoder\n",
    "lb=LabelEncoder()"
   ]
  },
  {
   "cell_type": "code",
   "execution_count": 60,
   "id": "bc32a33c",
   "metadata": {},
   "outputs": [],
   "source": [
    "test['NGender']=lb.fit_transform(test['Gender'])\n",
    "test['NVehicle_Age']=lb.fit_transform(test['Vehicle_Age'])\n",
    "test['NVehicle_Damage']=lb.fit_transform(test['Vehicle_Damage'])\n",
    "test.drop(['Gender','Vehicle_Age','Vehicle_Damage'],axis=1,inplace=True)"
   ]
  },
  {
   "cell_type": "code",
   "execution_count": 61,
   "id": "0912a2d2",
   "metadata": {},
   "outputs": [
    {
     "data": {
      "text/html": [
       "<div>\n",
       "<style scoped>\n",
       "    .dataframe tbody tr th:only-of-type {\n",
       "        vertical-align: middle;\n",
       "    }\n",
       "\n",
       "    .dataframe tbody tr th {\n",
       "        vertical-align: top;\n",
       "    }\n",
       "\n",
       "    .dataframe thead th {\n",
       "        text-align: right;\n",
       "    }\n",
       "</style>\n",
       "<table border=\"1\" class=\"dataframe\">\n",
       "  <thead>\n",
       "    <tr style=\"text-align: right;\">\n",
       "      <th></th>\n",
       "      <th>id</th>\n",
       "      <th>Age</th>\n",
       "      <th>Driving_License</th>\n",
       "      <th>Region_Code</th>\n",
       "      <th>Previously_Insured</th>\n",
       "      <th>Annual_Premium</th>\n",
       "      <th>Policy_Sales_Channel</th>\n",
       "      <th>Vintage</th>\n",
       "      <th>NGender</th>\n",
       "      <th>NVehicle_Age</th>\n",
       "      <th>NVehicle_Damage</th>\n",
       "    </tr>\n",
       "  </thead>\n",
       "  <tbody>\n",
       "    <tr>\n",
       "      <th>0</th>\n",
       "      <td>381110</td>\n",
       "      <td>25</td>\n",
       "      <td>1</td>\n",
       "      <td>11.0</td>\n",
       "      <td>1</td>\n",
       "      <td>35786.0</td>\n",
       "      <td>152.0</td>\n",
       "      <td>53</td>\n",
       "      <td>1</td>\n",
       "      <td>1</td>\n",
       "      <td>0</td>\n",
       "    </tr>\n",
       "    <tr>\n",
       "      <th>1</th>\n",
       "      <td>381111</td>\n",
       "      <td>40</td>\n",
       "      <td>1</td>\n",
       "      <td>28.0</td>\n",
       "      <td>0</td>\n",
       "      <td>33762.0</td>\n",
       "      <td>7.0</td>\n",
       "      <td>111</td>\n",
       "      <td>1</td>\n",
       "      <td>0</td>\n",
       "      <td>1</td>\n",
       "    </tr>\n",
       "    <tr>\n",
       "      <th>2</th>\n",
       "      <td>381112</td>\n",
       "      <td>47</td>\n",
       "      <td>1</td>\n",
       "      <td>28.0</td>\n",
       "      <td>0</td>\n",
       "      <td>40050.0</td>\n",
       "      <td>124.0</td>\n",
       "      <td>199</td>\n",
       "      <td>1</td>\n",
       "      <td>0</td>\n",
       "      <td>1</td>\n",
       "    </tr>\n",
       "    <tr>\n",
       "      <th>3</th>\n",
       "      <td>381113</td>\n",
       "      <td>24</td>\n",
       "      <td>1</td>\n",
       "      <td>27.0</td>\n",
       "      <td>1</td>\n",
       "      <td>37356.0</td>\n",
       "      <td>152.0</td>\n",
       "      <td>187</td>\n",
       "      <td>1</td>\n",
       "      <td>1</td>\n",
       "      <td>1</td>\n",
       "    </tr>\n",
       "    <tr>\n",
       "      <th>4</th>\n",
       "      <td>381114</td>\n",
       "      <td>27</td>\n",
       "      <td>1</td>\n",
       "      <td>28.0</td>\n",
       "      <td>1</td>\n",
       "      <td>59097.0</td>\n",
       "      <td>152.0</td>\n",
       "      <td>297</td>\n",
       "      <td>1</td>\n",
       "      <td>1</td>\n",
       "      <td>0</td>\n",
       "    </tr>\n",
       "  </tbody>\n",
       "</table>\n",
       "</div>"
      ],
      "text/plain": [
       "       id  Age  Driving_License  Region_Code  Previously_Insured  \\\n",
       "0  381110   25                1         11.0                   1   \n",
       "1  381111   40                1         28.0                   0   \n",
       "2  381112   47                1         28.0                   0   \n",
       "3  381113   24                1         27.0                   1   \n",
       "4  381114   27                1         28.0                   1   \n",
       "\n",
       "   Annual_Premium  Policy_Sales_Channel  Vintage  NGender  NVehicle_Age  \\\n",
       "0         35786.0                 152.0       53        1             1   \n",
       "1         33762.0                   7.0      111        1             0   \n",
       "2         40050.0                 124.0      199        1             0   \n",
       "3         37356.0                 152.0      187        1             1   \n",
       "4         59097.0                 152.0      297        1             1   \n",
       "\n",
       "   NVehicle_Damage  \n",
       "0                0  \n",
       "1                1  \n",
       "2                1  \n",
       "3                1  \n",
       "4                0  "
      ]
     },
     "execution_count": 61,
     "metadata": {},
     "output_type": "execute_result"
    }
   ],
   "source": [
    "test.head()"
   ]
  },
  {
   "cell_type": "code",
   "execution_count": 85,
   "id": "f66e7901",
   "metadata": {},
   "outputs": [
    {
     "data": {
      "text/plain": [
       "array([0, 0, 0, ..., 0, 0, 0], dtype=int64)"
      ]
     },
     "execution_count": 85,
     "metadata": {},
     "output_type": "execute_result"
    }
   ],
   "source": [
    "pred=model_training.predict(test)\n",
    "pred"
   ]
  },
  {
   "cell_type": "code",
   "execution_count": 88,
   "id": "6dc81b58",
   "metadata": {},
   "outputs": [
    {
     "data": {
      "text/plain": [
       "0    103744\n",
       "1     23293\n",
       "dtype: int64"
      ]
     },
     "execution_count": 88,
     "metadata": {},
     "output_type": "execute_result"
    }
   ],
   "source": [
    "df=pd.DataFrame(pred)\n",
    "df.value_counts()"
   ]
  },
  {
   "cell_type": "markdown",
   "id": "c52497c0",
   "metadata": {},
   "source": [
    "# Exporting the output values along with id\n"
   ]
  },
  {
   "cell_type": "code",
   "execution_count": 89,
   "id": "11717edd",
   "metadata": {},
   "outputs": [],
   "source": [
    "result= pd.Series(data=pred,name='predicted_values')\n",
    "final_result = pd.concat([sample['id'],result],axis=1)\n",
    "final_result.to_csv('Prediction_HealthInsurance.csv')"
   ]
  },
  {
   "cell_type": "code",
   "execution_count": 90,
   "id": "f50ce39f",
   "metadata": {},
   "outputs": [
    {
     "data": {
      "text/plain": [
       "'C:\\\\Users\\\\Admin\\\\Desktop\\\\TOP MENTOR\\\\Health Insurance project'"
      ]
     },
     "execution_count": 90,
     "metadata": {},
     "output_type": "execute_result"
    }
   ],
   "source": [
    "pwd"
   ]
  },
  {
   "cell_type": "code",
   "execution_count": null,
   "id": "5a537d6c",
   "metadata": {},
   "outputs": [],
   "source": []
  }
 ],
 "metadata": {
  "kernelspec": {
   "display_name": "Python 3",
   "language": "python",
   "name": "python3"
  },
  "language_info": {
   "codemirror_mode": {
    "name": "ipython",
    "version": 3
   },
   "file_extension": ".py",
   "mimetype": "text/x-python",
   "name": "python",
   "nbconvert_exporter": "python",
   "pygments_lexer": "ipython3",
   "version": "3.8.8"
  }
 },
 "nbformat": 4,
 "nbformat_minor": 5
}
