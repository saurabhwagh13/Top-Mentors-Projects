{
 "cells": [
  {
   "cell_type": "code",
   "execution_count": 1,
   "id": "27df5592",
   "metadata": {},
   "outputs": [],
   "source": [
    "#1. Simple Message: Store a message in a variable, and then print that message."
   ]
  },
  {
   "cell_type": "code",
   "execution_count": 2,
   "id": "a8ef3c30",
   "metadata": {},
   "outputs": [],
   "source": [
    "a= \"Hey, Good Morning... Have a nice day...\""
   ]
  },
  {
   "cell_type": "code",
   "execution_count": 3,
   "id": "97a2839b",
   "metadata": {},
   "outputs": [
    {
     "name": "stdout",
     "output_type": "stream",
     "text": [
      "Hey, Good Morning... Have a nice day...\n"
     ]
    }
   ],
   "source": [
    "print(a)"
   ]
  },
  {
   "cell_type": "code",
   "execution_count": 4,
   "id": "2db4cca6",
   "metadata": {},
   "outputs": [],
   "source": [
    "#2. Store a message in a variable and print that message. Then change the \n",
    "#value of your variable to a new message and print the new message."
   ]
  },
  {
   "cell_type": "code",
   "execution_count": 14,
   "id": "7e920a0c",
   "metadata": {},
   "outputs": [],
   "source": [
    "b= \"I love guitar.\""
   ]
  },
  {
   "cell_type": "code",
   "execution_count": 16,
   "id": "9b46b03a",
   "metadata": {},
   "outputs": [
    {
     "name": "stdout",
     "output_type": "stream",
     "text": [
      "I love guitar.\n"
     ]
    }
   ],
   "source": [
    "print(b)"
   ]
  },
  {
   "cell_type": "code",
   "execution_count": 39,
   "id": "ec26c1ed",
   "metadata": {},
   "outputs": [],
   "source": [
    "b= \"But I don't know how to play it!\""
   ]
  },
  {
   "cell_type": "code",
   "execution_count": 40,
   "id": "435bb4c2",
   "metadata": {},
   "outputs": [
    {
     "name": "stdout",
     "output_type": "stream",
     "text": [
      "But I don't know how to play it!\n"
     ]
    }
   ],
   "source": [
    "print(b)"
   ]
  },
  {
   "cell_type": "code",
   "execution_count": 41,
   "id": "4ea49005",
   "metadata": {},
   "outputs": [],
   "source": [
    "#3. Store a person’s name in a variable and print a message to that person."
   ]
  },
  {
   "cell_type": "code",
   "execution_count": 42,
   "id": "8766a62a",
   "metadata": {},
   "outputs": [],
   "source": [
    "n= \"Anantharaman Subbaraman\" "
   ]
  },
  {
   "cell_type": "code",
   "execution_count": 43,
   "id": "76cc60e0",
   "metadata": {},
   "outputs": [
    {
     "name": "stdout",
     "output_type": "stream",
     "text": [
      "A guy named Anantharaman Subbaraman arrived at the New York airport and ended up waiting for his visa for about 2 hours for the authorities to call his name.\n"
     ]
    }
   ],
   "source": [
    "print(\"A guy named\"+\" \"+ n +\" \"+\"arrived at the New York airport \"\n",
    "      \"and ended up waiting for his visa for about 2 hours for the authorities to call his name.\")"
   ]
  },
  {
   "cell_type": "code",
   "execution_count": 44,
   "id": "689cc82c",
   "metadata": {},
   "outputs": [],
   "source": [
    "#4. Find a quote from a famous person you admire. Print the quote and the \n",
    "#name of its author"
   ]
  },
  {
   "cell_type": "code",
   "execution_count": 57,
   "id": "ac74889d",
   "metadata": {},
   "outputs": [],
   "source": [
    "c='\"Nothing is permanent in this wicked world,\\n    not even our troubles.\" \\n            -Charlie Chaplin'"
   ]
  },
  {
   "cell_type": "code",
   "execution_count": 58,
   "id": "b98768a2",
   "metadata": {},
   "outputs": [
    {
     "name": "stdout",
     "output_type": "stream",
     "text": [
      "\"Nothing is permanent in this wicked world,\n",
      "    not even our troubles.\" \n",
      "            -Charlie Chaplin\n"
     ]
    }
   ],
   "source": [
    "print(c)"
   ]
  },
  {
   "cell_type": "code",
   "execution_count": null,
   "id": "dc26c31a",
   "metadata": {},
   "outputs": [],
   "source": [
    "#5.Repeat Exercise 4, but this time store the famous person’s name in a \n",
    "#variable called famous_person. Then compose your message and store it in \n",
    "#a new variable called message. Print your message."
   ]
  },
  {
   "cell_type": "code",
   "execution_count": 63,
   "id": "001dde53",
   "metadata": {},
   "outputs": [],
   "source": [
    "famous_person=\"             \" + \"-Charlie Chaplin\""
   ]
  },
  {
   "cell_type": "code",
   "execution_count": 64,
   "id": "5f5cfd19",
   "metadata": {},
   "outputs": [],
   "source": [
    "message='\"Nothing is permanent in this wicked world,\\n not even our troubles.\"'"
   ]
  },
  {
   "cell_type": "code",
   "execution_count": 65,
   "id": "123acb1e",
   "metadata": {},
   "outputs": [
    {
     "name": "stdout",
     "output_type": "stream",
     "text": [
      "\"Nothing is permanent in this wicked world,\n",
      " not even our troubles.\"\n",
      "             -Charlie Chaplin\n"
     ]
    }
   ],
   "source": [
    "print(message)\n",
    "print(famous_person)"
   ]
  },
  {
   "cell_type": "code",
   "execution_count": null,
   "id": "879d741f",
   "metadata": {},
   "outputs": [],
   "source": [
    "#6. Write addition, subtraction, multiplication, and division operations that \n",
    "#each result in the number 8. Be sure to enclose your operations in print \n",
    "#statements to see the results."
   ]
  },
  {
   "cell_type": "code",
   "execution_count": 66,
   "id": "0ea7331b",
   "metadata": {},
   "outputs": [
    {
     "name": "stdout",
     "output_type": "stream",
     "text": [
      "8\n"
     ]
    }
   ],
   "source": [
    "print(4+4)"
   ]
  },
  {
   "cell_type": "code",
   "execution_count": 67,
   "id": "b2df4977",
   "metadata": {},
   "outputs": [
    {
     "name": "stdout",
     "output_type": "stream",
     "text": [
      "8\n"
     ]
    }
   ],
   "source": [
    "print(12-4)"
   ]
  },
  {
   "cell_type": "code",
   "execution_count": 68,
   "id": "baa11510",
   "metadata": {},
   "outputs": [
    {
     "name": "stdout",
     "output_type": "stream",
     "text": [
      "8.0\n"
     ]
    }
   ],
   "source": [
    "print(16/2)"
   ]
  },
  {
   "cell_type": "code",
   "execution_count": 69,
   "id": "20a5ec18",
   "metadata": {},
   "outputs": [
    {
     "name": "stdout",
     "output_type": "stream",
     "text": [
      "8\n"
     ]
    }
   ],
   "source": [
    "print(4*2)"
   ]
  },
  {
   "cell_type": "code",
   "execution_count": 70,
   "id": "46a77f49",
   "metadata": {},
   "outputs": [],
   "source": [
    "#7. Store your favourite number in a variable. Then, using that variable, create \n",
    "#a message that reveals your favourite number. Print that message.\n"
   ]
  },
  {
   "cell_type": "code",
   "execution_count": 71,
   "id": "7759e5f4",
   "metadata": {},
   "outputs": [],
   "source": [
    "s=\"13\""
   ]
  },
  {
   "cell_type": "code",
   "execution_count": 74,
   "id": "e7d73600",
   "metadata": {},
   "outputs": [
    {
     "name": "stdout",
     "output_type": "stream",
     "text": [
      "My favourite number is 13 because 13 is my birth date.\n"
     ]
    }
   ],
   "source": [
    "print(\"My favourite number is\"\" \"+ s +\" \"\"because\"\" \"+ s +\" \"\"is my birth date.\" )"
   ]
  },
  {
   "cell_type": "code",
   "execution_count": null,
   "id": "9ba33628",
   "metadata": {},
   "outputs": [],
   "source": []
  }
 ],
 "metadata": {
  "kernelspec": {
   "display_name": "Python 3",
   "language": "python",
   "name": "python3"
  },
  "language_info": {
   "codemirror_mode": {
    "name": "ipython",
    "version": 3
   },
   "file_extension": ".py",
   "mimetype": "text/x-python",
   "name": "python",
   "nbconvert_exporter": "python",
   "pygments_lexer": "ipython3",
   "version": "3.8.8"
  }
 },
 "nbformat": 4,
 "nbformat_minor": 5
}
